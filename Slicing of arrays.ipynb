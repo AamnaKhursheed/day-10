{
 "cells": [
  {
   "cell_type": "code",
   "execution_count": 6,
   "metadata": {},
   "outputs": [
    {
     "name": "stdout",
     "output_type": "stream",
     "text": [
      "X = \n",
      " [[ 0  1  2  3  4]\n",
      " [ 5  6  7  8  9]\n",
      " [10 11 12 13 14]\n",
      " [15 16 17 18 19]]\n",
      "Z = \n",
      " [[ 7  8  9]\n",
      " [12 13 14]\n",
      " [17 18 19]]\n",
      "W = \n",
      " [[ 7  8  9]\n",
      " [12 13 14]\n",
      " [17 18 19]]\n",
      "Y = \n",
      " [[ 2  3  4]\n",
      " [ 7  8  9]\n",
      " [12 13 14]]\n",
      "v =  [10 11 12 13 14]\n",
      "q =\n",
      "  [ 2  7 12 17]\n",
      "R = \n",
      " [[ 2]\n",
      " [ 7]\n",
      " [12]\n",
      " [17]]\n"
     ]
    }
   ],
   "source": [
    "import numpy as np\n",
    "# Create a 4 x 5 ndarray that contains integers from 0 to 19\n",
    "X = np.arange(20).reshape(4, 5)\n",
    "\n",
    "print('X = \\n', X)\n",
    "\n",
    "# We select all the elements that are in the 2nd through 4th rows and in the 3rd to 5th columns\n",
    "Z = X[1:4,2:5]\n",
    "\n",
    "print('Z = \\n', Z)\n",
    "\n",
    "# We can select the same elements as above using method 2\n",
    "W = X[1:,2:5]\n",
    "\n",
    "print('W = \\n', W)\n",
    "\n",
    "# We select all the elements that are in the 1st through 3rd rows and in the 3rd to 4th columns\n",
    "Y = X[:3,2:5]\n",
    "\n",
    "print('Y = \\n', Y)\n",
    "\n",
    "# We select all the elements in the 3rd row\n",
    "v = X[2,:]\n",
    "\n",
    "print('v = ', v)\n",
    "\n",
    "# We select all the elements in the 3rd column\n",
    "q = X[:,2]\n",
    "\n",
    "print('q =\\n ', q)\n",
    "\n",
    "# We select all the elements in the 3rd column but return a rank 2 ndarray\n",
    "R = X[:,2:3]\n",
    "\n",
    "print('R = \\n', R)"
   ]
  },
  {
   "cell_type": "code",
   "execution_count": null,
   "metadata": {},
   "outputs": [],
   "source": []
  }
 ],
 "metadata": {
  "kernelspec": {
   "display_name": "Python 3",
   "language": "python",
   "name": "python3"
  },
  "language_info": {
   "codemirror_mode": {
    "name": "ipython",
    "version": 3
   },
   "file_extension": ".py",
   "mimetype": "text/x-python",
   "name": "python",
   "nbconvert_exporter": "python",
   "pygments_lexer": "ipython3",
   "version": "3.7.4"
  }
 },
 "nbformat": 4,
 "nbformat_minor": 2
}
